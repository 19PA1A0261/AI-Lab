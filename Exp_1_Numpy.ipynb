{
  "nbformat": 4,
  "nbformat_minor": 0,
  "metadata": {
    "colab": {
      "name": "Exp.1 Numpy",
      "provenance": [],
      "authorship_tag": "ABX9TyNbuMH5Dk7XyHYNIl1HjKVC",
      "include_colab_link": true
    },
    "kernelspec": {
      "name": "python3",
      "display_name": "Python 3"
    }
  },
  "cells": [
    {
      "cell_type": "markdown",
      "metadata": {
        "id": "view-in-github",
        "colab_type": "text"
      },
      "source": [
        "<a href=\"https://colab.research.google.com/github/19PA1A0261/AI-Lab/blob/master/Exp_1_Numpy.ipynb\" target=\"_parent\"><img src=\"https://colab.research.google.com/assets/colab-badge.svg\" alt=\"Open In Colab\"/></a>"
      ]
    },
    {
      "cell_type": "markdown",
      "metadata": {
        "id": "9u12el6Cxa2o",
        "colab_type": "text"
      },
      "source": [
        " # \"Experiment No 1:Numpy\""
      ]
    },
    {
      "cell_type": "markdown",
      "metadata": {
        "id": "nGVNiUGyxyJ_",
        "colab_type": "text"
      },
      "source": [
        "##i)Different ways to create Numpy arrays"
      ]
    },
    {
      "cell_type": "code",
      "metadata": {
        "id": "w8Pjy0vkkRZq",
        "colab_type": "code",
        "colab": {
          "base_uri": "https://localhost:8080/",
          "height": 34
        },
        "outputId": "a10ad114-3707-40bb-b22e-caea09f35c5c"
      },
      "source": [
        "import numpy as np\n",
        "x = np. array([4,5,6])\n",
        "print(x)"
      ],
      "execution_count": null,
      "outputs": [
        {
          "output_type": "stream",
          "text": [
            "[4 5 6]\n"
          ],
          "name": "stdout"
        }
      ]
    },
    {
      "cell_type": "code",
      "metadata": {
        "id": "SLqCGD1GlfpC",
        "colab_type": "code",
        "colab": {
          "base_uri": "https://localhost:8080/",
          "height": 51
        },
        "outputId": "5fbc17d0-c032-4fae-a71d-ffdb458aac0c"
      },
      "source": [
        "x = np. array ([[4,5,6],[40,50,60]])\n",
        "print(x)"
      ],
      "execution_count": null,
      "outputs": [
        {
          "output_type": "stream",
          "text": [
            "[[ 4  5  6]\n",
            " [40 50 60]]\n"
          ],
          "name": "stdout"
        }
      ]
    },
    {
      "cell_type": "markdown",
      "metadata": {
        "id": "NZ239wJByvvD",
        "colab_type": "text"
      },
      "source": [
        " ## ii)add,remove,modify elements in array"
      ]
    },
    {
      "cell_type": "markdown",
      "metadata": {
        "id": "LvORu-sZybwo",
        "colab_type": "text"
      },
      "source": [
        "###Add"
      ]
    },
    {
      "cell_type": "code",
      "metadata": {
        "id": "wP9acXo6l2b4",
        "colab_type": "code",
        "colab": {
          "base_uri": "https://localhost:8080/",
          "height": 34
        },
        "outputId": "8a9955eb-b406-4ce1-b91a-d65edf28f505"
      },
      "source": [
        "x = np. array([4,5,6])\n",
        "y = np. append(x,[88,89,90])\n",
        "print(y)"
      ],
      "execution_count": null,
      "outputs": [
        {
          "output_type": "stream",
          "text": [
            "[ 4  5  6 88 89 90]\n"
          ],
          "name": "stdout"
        }
      ]
    },
    {
      "cell_type": "markdown",
      "metadata": {
        "id": "Y7X4xlCSzKHa",
        "colab_type": "text"
      },
      "source": [
        " ### Remove"
      ]
    },
    {
      "cell_type": "code",
      "metadata": {
        "id": "LGkUyJ8FmaOg",
        "colab_type": "code",
        "colab": {
          "base_uri": "https://localhost:8080/",
          "height": 34
        },
        "outputId": "759a5ca6-2230-462e-f504-3cf06aeec6dd"
      },
      "source": [
        "x = np .delete(x,2)\n",
        "print(x)"
      ],
      "execution_count": null,
      "outputs": [
        {
          "output_type": "stream",
          "text": [
            "[4 5]\n"
          ],
          "name": "stdout"
        }
      ]
    },
    {
      "cell_type": "markdown",
      "metadata": {
        "id": "Te09JMblz8Jt",
        "colab_type": "text"
      },
      "source": [
        "### Modify"
      ]
    },
    {
      "cell_type": "code",
      "metadata": {
        "id": "HQ89TnpHmtoJ",
        "colab_type": "code",
        "colab": {
          "base_uri": "https://localhost:8080/",
          "height": 34
        },
        "outputId": "8a9d2c9a-d529-4294-ff9e-d9739a608ef2"
      },
      "source": [
        "x[x<5]=-1\n",
        "print(x)"
      ],
      "execution_count": null,
      "outputs": [
        {
          "output_type": "stream",
          "text": [
            "[-1  5]\n"
          ],
          "name": "stdout"
        }
      ]
    },
    {
      "cell_type": "markdown",
      "metadata": {
        "id": "5P4CA0Xj0H01",
        "colab_type": "text"
      },
      "source": [
        "## iii)Arithmetic operations on Numpy array"
      ]
    },
    {
      "cell_type": "code",
      "metadata": {
        "id": "y7XVK2QAm9lQ",
        "colab_type": "code",
        "colab": {
          "base_uri": "https://localhost:8080/",
          "height": 103
        },
        "outputId": "acac8428-0d82-4804-9abf-1062b5f4bd4f"
      },
      "source": [
        "import numpy as np \n",
        "x = ([6,5,4])\n",
        "y = ([4,5,6])\n",
        "num_sum = np.add(x,y)\n",
        "num_diff = np.subtract(x,y)\n",
        "num_quo = np.divide(x,y)\n",
        "num_mod = np.mod(x,y)\n",
        "num_pow = np.power(x,y)\n",
        "print(num_sum)\n",
        "print(num_diff)\n",
        "print(num_quo)\n",
        "print(num_mod)\n",
        "print(num_pow)"
      ],
      "execution_count": null,
      "outputs": [
        {
          "output_type": "stream",
          "text": [
            "[10 10 10]\n",
            "[ 2  0 -2]\n",
            "[1.5        1.         0.66666667]\n",
            "[2 0 4]\n",
            "[1296 3125 4096]\n"
          ],
          "name": "stdout"
        }
      ]
    },
    {
      "cell_type": "markdown",
      "metadata": {
        "id": "M026Bkg50UMv",
        "colab_type": "text"
      },
      "source": [
        "## iv) Slicing and iterating of Numpy arrays"
      ]
    },
    {
      "cell_type": "markdown",
      "metadata": {
        "id": "W0lvsjtP0hdT",
        "colab_type": "text"
      },
      "source": [
        "### Slicing"
      ]
    },
    {
      "cell_type": "code",
      "metadata": {
        "id": "u919uD9-oyEt",
        "colab_type": "code",
        "colab": {
          "base_uri": "https://localhost:8080/",
          "height": 34
        },
        "outputId": "b2636394-d792-46f5-d95b-5bd5d4ab960e"
      },
      "source": [
        "import numpy as np \n",
        "arr = np.array([1,2,3,4,5,6,7,8,9,10])\n",
        "print(arr[1:10])"
      ],
      "execution_count": null,
      "outputs": [
        {
          "output_type": "stream",
          "text": [
            "[ 2  3  4  5  6  7  8  9 10]\n"
          ],
          "name": "stdout"
        }
      ]
    },
    {
      "cell_type": "markdown",
      "metadata": {
        "id": "_E4vb9nB0lkF",
        "colab_type": "text"
      },
      "source": [
        " ### Iterating"
      ]
    },
    {
      "cell_type": "code",
      "metadata": {
        "id": "1x9W-JIEpXly",
        "colab_type": "code",
        "colab": {
          "base_uri": "https://localhost:8080/",
          "height": 188
        },
        "outputId": "b233b384-e66d-4b93-f5f1-ef8d0b5ccd8b"
      },
      "source": [
        "for x in arr:\n",
        "  print(x)"
      ],
      "execution_count": null,
      "outputs": [
        {
          "output_type": "stream",
          "text": [
            "1\n",
            "2\n",
            "3\n",
            "4\n",
            "5\n",
            "6\n",
            "7\n",
            "8\n",
            "9\n",
            "10\n"
          ],
          "name": "stdout"
        }
      ]
    },
    {
      "cell_type": "markdown",
      "metadata": {
        "id": "vJ73UkIc0sQv",
        "colab_type": "text"
      },
      "source": [
        "## V)Matrix operations on Numpy arrays"
      ]
    },
    {
      "cell_type": "code",
      "metadata": {
        "id": "5gv-_v_Mp4yR",
        "colab_type": "code",
        "colab": {
          "base_uri": "https://localhost:8080/",
          "height": 120
        },
        "outputId": "b74a7991-a864-4683-8c0f-8c0ad4ea4d1b"
      },
      "source": [
        "import numpy as np \n",
        "x = np. array([[4,5],[6,7]])\n",
        "y = np. array([[40,50],[60,70]])\n",
        "print(np.add(x,y))\n",
        "print(np.subtract(x,y))\n",
        "print(np.divide(x,y))"
      ],
      "execution_count": null,
      "outputs": [
        {
          "output_type": "stream",
          "text": [
            "[[44 55]\n",
            " [66 77]]\n",
            "[[-36 -45]\n",
            " [-54 -63]]\n",
            "[[0.1 0.1]\n",
            " [0.1 0.1]]\n"
          ],
          "name": "stdout"
        }
      ]
    }
  ]
}